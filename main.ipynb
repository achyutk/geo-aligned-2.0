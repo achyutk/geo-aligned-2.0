{
 "cells": [
  {
   "cell_type": "code",
   "execution_count": 1,
   "id": "afc38a48",
   "metadata": {
    "scrolled": false
   },
   "outputs": [
    {
     "name": "stderr",
     "output_type": "stream",
     "text": [
      "[nltk_data] Downloading package wordnet to\n",
      "[nltk_data]     C:\\Users\\ak19g21\\AppData\\Roaming\\nltk_data...\n",
      "[nltk_data]   Package wordnet is already up-to-date!\n",
      "[nltk_data] Downloading package punkt to\n",
      "[nltk_data]     C:\\Users\\ak19g21\\AppData\\Roaming\\nltk_data...\n",
      "[nltk_data]   Package punkt is already up-to-date!\n",
      "[nltk_data] Downloading package wordnet to\n",
      "[nltk_data]     C:\\Users\\ak19g21\\AppData\\Roaming\\nltk_data...\n",
      "[nltk_data]   Package wordnet is already up-to-date!\n",
      "[nltk_data] Downloading package punkt to\n",
      "[nltk_data]     C:\\Users\\ak19g21\\AppData\\Roaming\\nltk_data...\n",
      "[nltk_data]   Package punkt is already up-to-date!\n"
     ]
    }
   ],
   "source": [
    "import utils\n",
    "import model_download"
   ]
  },
  {
   "cell_type": "code",
   "execution_count": 2,
   "id": "106cbdd1",
   "metadata": {},
   "outputs": [],
   "source": [
    "## This code is run to generate outputs for illustrations\n",
    "\n",
    "#  original_english= 'Sherlock eating watermelon in London. He is wearing a dark hat, cape, a crisp shirt with a high collar, well-fitted trousers, polished shoe and a waistcoat. Weather outside is rainy'\n",
    "# original_english2= \"Young boy with fair skin, bright blue eyes, and tousled blond hair. Peter is often seen wearing a green tunic with a matching pointed hat adorned with a feather. His attire is completed with brown boots and a wide belt. He is standing in lush green landscapes, towering trees, and breathtakingly beautiful scenes of nature. The sky above is often painted with hues of purple and pink.\"\n",
    "# original_english3=\"A young girl with fair hair, rosy cheeks, and a red hooded cloak, meeting a wolf in shadows of the forests.\"\n",
    "\n",
    "# original_russia = \"Шерлок ест арбуз в Лондоне. Он одет в темную шляпу, накидку, хрустящую рубашку с высоким воротником, хорошо сидящие брюки, начищенную обувь и жилет. Погода на улице дождливая\"\n",
    "# original_russia2 = \"Мальчик со светлой кожей, ярко-голубыми глазами и взъерошенными светлыми волосами. Питера часто можно увидеть в зеленой тунике с подходящей остроконечной шляпой, украшенной пером. Его наряд дополняют коричневые сапоги и широкий пояс. Он стоит среди пышных зеленых пейзажей, высоких деревьев и потрясающе красивых пейзажей природы. Небо над головой часто окрашено в оттенки фиолетового и розового.\"\n",
    "# original_russia3 = \"Молодая девушка со светлыми волосами, румяными щеками и красным плащом с капюшоном, встречающая волка в тени лесов.\"\n",
    "\n",
    "\n",
    "\n",
    "# data=[original_english,original_english2,original_english3]\n",
    "# data=[original_russian,original_russian2,original_russian3]"
   ]
  },
  {
   "cell_type": "code",
   "execution_count": null,
   "id": "e5441a35",
   "metadata": {},
   "outputs": [],
   "source": [
    "## This code is run to generate outputs for evaluation of framework\n",
    "# with open('data/english_book_data_1000.txt',encoding=\"utf8\") as f: # Change the file name to russian_book_data_1000.txt for with translation\n",
    "#     data = [line.rstrip('\\n') for line in f]"
   ]
  },
  {
   "cell_type": "code",
   "execution_count": null,
   "id": "d40da4cb",
   "metadata": {},
   "outputs": [],
   "source": [
    "sentence =\"\"\n",
    "data = [sentence]"
   ]
  },
  {
   "cell_type": "code",
   "execution_count": null,
   "id": "856e40d0",
   "metadata": {
    "scrolled": true
   },
   "outputs": [],
   "source": [
    "translation_model,translation_tokenizer, food_tokenizer,food_model,loc_per_tokenizer,loc_per_model,clothes_tokenizer,clothes_model,word2vec_model,disffusion_model = model_download.download_models() "
   ]
  },
  {
   "cell_type": "code",
   "execution_count": null,
   "id": "0454f6aa",
   "metadata": {
    "scrolled": true
   },
   "outputs": [],
   "source": [
    "c=0  # Counter/name for image generations\n",
    "tranlsations = []    # List to store all the translations\n",
    "aligned_texts = []    # List to store all the aligned sentences\n",
    "for i in data:\n",
    "#     aligned_sentence , image = utils.main_no_translation(translation_model,translation_tokenizer, food_tokenizer,food_model,loc_per_tokenizer,loc_per_model,clothes_tokenizer,clothes_model,word2vec_model,disffusion_model,i)\n",
    "    translated_text, aligned_sentence , image = utils.main(translation_model,translation_tokenizer, food_tokenizer,food_model,loc_per_tokenizer,loc_per_model,clothes_tokenizer,clothes_model,word2vec_model,disffusion_model,i)\n",
    "    image.save('Output/translation_google_w2v_achyut_sd/'+str(c)+'.jpg')\n",
    "    tranlsations.append(translated_text)\n",
    "    aligned_texts.append(aligned_sentence)\n",
    "    c=c+1\n",
    "    \n",
    "with open('Output/translation_google_w2v_achyut_sd/translations.txt', 'w',encoding=\"utf8\") as file:\n",
    "    for item in tranlsations:\n",
    "        file.write(str(item) + '\\n')\n",
    "        \n",
    "with open('Output/translation_google_w2v_achyut_sd/aligned_texts.txt', 'w',encoding=\"utf8\") as file:\n",
    "    for item in aligned_texts:\n",
    "        file.write(str(item) + '\\n')      \n",
    "\n",
    "with open('Output/translation_google_w2v_achyut_sd/original.txt', 'w',encoding=\"utf8\") as file:\n",
    "    for item in data:\n",
    "        file.write(str(item) + '\\n')"
   ]
  }
 ],
 "metadata": {
  "kernelspec": {
   "display_name": "Python 3 (ipykernel)",
   "language": "python",
   "name": "python3"
  },
  "language_info": {
   "codemirror_mode": {
    "name": "ipython",
    "version": 3
   },
   "file_extension": ".py",
   "mimetype": "text/x-python",
   "name": "python",
   "nbconvert_exporter": "python",
   "pygments_lexer": "ipython3",
   "version": "3.9.17"
  }
 },
 "nbformat": 4,
 "nbformat_minor": 5
}
