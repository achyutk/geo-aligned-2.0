{
 "cells": [
  {
   "cell_type": "code",
   "execution_count": 1,
   "id": "d02fbf66",
   "metadata": {},
   "outputs": [],
   "source": [
    "# !pip install -U torch torchvision"
   ]
  },
  {
   "cell_type": "code",
   "execution_count": 2,
   "id": "43bc4616",
   "metadata": {},
   "outputs": [],
   "source": [
    "# !pip install -U git+https://github.com/openai/CLIP.git"
   ]
  },
  {
   "cell_type": "code",
   "execution_count": 5,
   "id": "47ff1387",
   "metadata": {},
   "outputs": [],
   "source": [
    "import torch\n",
    "import clip\n",
    "from PIL import Image\n",
    "import os\n",
    "import numpy as np\n",
    "import pandas as pd\n",
    "import csv\n",
    "import pycountry"
   ]
  },
  {
   "cell_type": "code",
   "execution_count": 7,
   "id": "5dd679a2",
   "metadata": {},
   "outputs": [],
   "source": [
    "# Load the pre-trained CLIP model and the image\n",
    "model, preprocess = clip.load('ViT-B/32')"
   ]
  },
  {
   "cell_type": "code",
   "execution_count": 8,
   "id": "5d8775fc",
   "metadata": {},
   "outputs": [],
   "source": [
    "def get_clip_text_features(model, preprocess, text_list):\n",
    "    \n",
    "    feature=[] \n",
    "    \n",
    "    for text in text_list:\n",
    "        text_input = clip.tokenize([text])\n",
    "        \n",
    "        # Move the inputs to GPU if available\n",
    "        device = \"cuda\" if torch.cuda.is_available() else \"cpu\"\n",
    "        text_input = text_input.to(device)\n",
    "        model = model.to(device)\n",
    "        \n",
    "        with torch.no_grad():\n",
    "            text_features = model.encode_text(text_input)\n",
    "        \n",
    "        # Normalize the features\n",
    "        text_features = text_features / text_features.norm(dim=-1, keepdim=True)\n",
    "        feature.append(text_features)\n",
    "    \n",
    "    return feature"
   ]
  },
  {
   "cell_type": "code",
   "execution_count": 6,
   "id": "df901905",
   "metadata": {},
   "outputs": [],
   "source": [
    "all_countries = list(pycountry.countries)\n",
    "country_names = [country.name for country in all_countries]"
   ]
  },
  {
   "cell_type": "code",
   "execution_count": 9,
   "id": "9a8e9350",
   "metadata": {},
   "outputs": [],
   "source": [
    "features = get_clip_text_features(model, preprocess,country_names)"
   ]
  },
  {
   "cell_type": "code",
   "execution_count": 13,
   "id": "26e3ea66",
   "metadata": {},
   "outputs": [],
   "source": [
    "# storing the list of tensor the features in csv file\n",
    "torch.save(features, 'model/eval_country_text_features.pt')"
   ]
  },
  {
   "cell_type": "code",
   "execution_count": 14,
   "id": "adb4013b",
   "metadata": {},
   "outputs": [],
   "source": [
    "# Save the list of strings to a text file\n",
    "with open('model/eval_country_text_country_list.txt', 'w') as file:\n",
    "    for string in country_names:\n",
    "        file.write(string + '\\n')"
   ]
  }
 ],
 "metadata": {
  "kernelspec": {
   "display_name": "Python 3 (ipykernel)",
   "language": "python",
   "name": "python3"
  },
  "language_info": {
   "codemirror_mode": {
    "name": "ipython",
    "version": 3
   },
   "file_extension": ".py",
   "mimetype": "text/x-python",
   "name": "python",
   "nbconvert_exporter": "python",
   "pygments_lexer": "ipython3",
   "version": "3.9.13"
  }
 },
 "nbformat": 4,
 "nbformat_minor": 5
}
