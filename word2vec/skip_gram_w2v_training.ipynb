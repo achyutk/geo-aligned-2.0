{
 "cells": [
  {
   "cell_type": "code",
   "execution_count": 8,
   "id": "b8799063",
   "metadata": {},
   "outputs": [],
   "source": [
    "from gensim.models import Word2Vec\n",
    "from gensim.models.word2vec import LineSentence\n",
    "import pandas as pd\n",
    "import gensim"
   ]
  },
  {
   "cell_type": "code",
   "execution_count": 5,
   "id": "47716b90",
   "metadata": {},
   "outputs": [],
   "source": [
    "# Sample sentences for training\n",
    "f = open('data/india_data.txt', 'r',encoding=\"utf-8\")    #Change the file name to india_corpus_txt to train on indian dataset\n",
    "sentences=[]\n",
    "for x in f.readlines():\n",
    "    sentences.append(x)\n",
    "\n",
    "# close the file\n",
    "f.close()"
   ]
  },
  {
   "cell_type": "code",
   "execution_count": 9,
   "id": "18f748b5",
   "metadata": {},
   "outputs": [],
   "source": [
    "df= pd.DataFrame({'sentences':sentences})\n",
    "review_text = df['sentences'].apply(gensim.utils.simple_preprocess)"
   ]
  },
  {
   "cell_type": "code",
   "execution_count": 10,
   "id": "24a2f254",
   "metadata": {},
   "outputs": [],
   "source": [
    "# Preprocess sentences (tokenization)\n",
    "tokenized_sentences = [sentence.lower().split() for sentence in sentences]\n",
    "\n",
    "# Train CBOW model\n",
    "\n",
    "model = Word2Vec(window=2,min_count=2,sg=1, workers=4) # This sg=1 indicates Skip Gram \n",
    "model.build_vocab(review_text,progress_per=1000)\n",
    "model.train(review_text,total_examples=model.corpus_count,epochs=model.epochs)\n",
    "model.save(\"model/india_skip_gram_model\")    #Change the file name to india_corpus_txt to train on indian dataset"
   ]
  },
  {
   "cell_type": "code",
   "execution_count": null,
   "id": "6c4675a0",
   "metadata": {},
   "outputs": [],
   "source": []
  }
 ],
 "metadata": {
  "kernelspec": {
   "display_name": "Python 3 (ipykernel)",
   "language": "python",
   "name": "python3"
  },
  "language_info": {
   "codemirror_mode": {
    "name": "ipython",
    "version": 3
   },
   "file_extension": ".py",
   "mimetype": "text/x-python",
   "name": "python",
   "nbconvert_exporter": "python",
   "pygments_lexer": "ipython3",
   "version": "3.9.17"
  }
 },
 "nbformat": 4,
 "nbformat_minor": 5
}
